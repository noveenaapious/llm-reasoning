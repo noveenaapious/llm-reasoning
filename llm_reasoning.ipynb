{
  "cells": [
    {
      "cell_type": "markdown",
      "metadata": {
        "id": "utZYHFcV8-8M"
      },
      "source": [
        "**LLM REASONING**\n",
        "\n"
      ]
    },
    {
      "cell_type": "code",
      "execution_count": 1,
      "metadata": {
        "id": "uEc5lfJ0usoa"
      },
      "outputs": [],
      "source": [
        "import pandas as pd\n",
        "import numpy as np\n",
        "import matplotlib.pyplot as plt\n",
        "import seaborn as sns\n",
        "import google.generativeai as genai\n",
        "from IPython.display import Markdown"
      ]
    },
    {
      "cell_type": "code",
      "execution_count": 2,
      "metadata": {
        "colab": {
          "base_uri": "https://localhost:8080/"
        },
        "id": "x-AEZc0dvFhR",
        "outputId": "25f7d1f3-8f2a-4472-d067-86342cb67bfb"
      },
      "outputs": [
        {
          "name": "stdout",
          "output_type": "stream",
          "text": [
            "\u001b[?25l     \u001b[90m━━━━━━━━━━━━━━━━━━━━━━━━━━━━━━━━━━━━━━━━\u001b[0m \u001b[32m0.0/67.3 kB\u001b[0m \u001b[31m?\u001b[0m eta \u001b[36m-:--:--\u001b[0m\r\u001b[2K     \u001b[90m━━━━━━━━━━━━━━━━━━━━━━━━━━━━━━━━━━━━━━━━\u001b[0m \u001b[32m67.3/67.3 kB\u001b[0m \u001b[31m3.8 MB/s\u001b[0m eta \u001b[36m0:00:00\u001b[0m\n",
            "\u001b[?25h  Installing build dependencies ... \u001b[?25l\u001b[?25hdone\n",
            "  Getting requirements to build wheel ... \u001b[?25l\u001b[?25hdone\n",
            "  Preparing metadata (pyproject.toml) ... \u001b[?25l\u001b[?25hdone\n",
            "\u001b[2K   \u001b[90m━━━━━━━━━━━━━━━━━━━━━━━━━━━━━━━━━━━━━━━━\u001b[0m \u001b[32m611.1/611.1 kB\u001b[0m \u001b[31m24.9 MB/s\u001b[0m eta \u001b[36m0:00:00\u001b[0m\n",
            "\u001b[2K   \u001b[90m━━━━━━━━━━━━━━━━━━━━━━━━━━━━━━━━━━━━━━━━\u001b[0m \u001b[32m2.4/2.4 MB\u001b[0m \u001b[31m48.2 MB/s\u001b[0m eta \u001b[36m0:00:00\u001b[0m\n",
            "\u001b[2K   \u001b[90m━━━━━━━━━━━━━━━━━━━━━━━━━━━━━━━━━━━━━━━━\u001b[0m \u001b[32m278.6/278.6 kB\u001b[0m \u001b[31m18.6 MB/s\u001b[0m eta \u001b[36m0:00:00\u001b[0m\n",
            "\u001b[2K   \u001b[90m━━━━━━━━━━━━━━━━━━━━━━━━━━━━━━━━━━━━━━━━\u001b[0m \u001b[32m94.8/94.8 kB\u001b[0m \u001b[31m6.4 MB/s\u001b[0m eta \u001b[36m0:00:00\u001b[0m\n",
            "\u001b[2K   \u001b[90m━━━━━━━━━━━━━━━━━━━━━━━━━━━━━━━━━━━━━━━━\u001b[0m \u001b[32m2.0/2.0 MB\u001b[0m \u001b[31m47.4 MB/s\u001b[0m eta \u001b[36m0:00:00\u001b[0m\n",
            "\u001b[2K   \u001b[90m━━━━━━━━━━━━━━━━━━━━━━━━━━━━━━━━━━━━━━━━\u001b[0m \u001b[32m101.6/101.6 kB\u001b[0m \u001b[31m5.6 MB/s\u001b[0m eta \u001b[36m0:00:00\u001b[0m\n",
            "\u001b[2K   \u001b[90m━━━━━━━━━━━━━━━━━━━━━━━━━━━━━━━━━━━━━━━━\u001b[0m \u001b[32m13.3/13.3 MB\u001b[0m \u001b[31m59.0 MB/s\u001b[0m eta \u001b[36m0:00:00\u001b[0m\n",
            "\u001b[2K   \u001b[90m━━━━━━━━━━━━━━━━━━━━━━━━━━━━━━━━━━━━━━━━\u001b[0m \u001b[32m55.9/55.9 kB\u001b[0m \u001b[31m4.0 MB/s\u001b[0m eta \u001b[36m0:00:00\u001b[0m\n",
            "\u001b[2K   \u001b[90m━━━━━━━━━━━━━━━━━━━━━━━━━━━━━━━━━━━━━━━━\u001b[0m \u001b[32m177.4/177.4 kB\u001b[0m \u001b[31m12.1 MB/s\u001b[0m eta \u001b[36m0:00:00\u001b[0m\n",
            "\u001b[2K   \u001b[90m━━━━━━━━━━━━━━━━━━━━━━━━━━━━━━━━━━━━━━━━\u001b[0m \u001b[32m65.0/65.0 kB\u001b[0m \u001b[31m4.9 MB/s\u001b[0m eta \u001b[36m0:00:00\u001b[0m\n",
            "\u001b[2K   \u001b[90m━━━━━━━━━━━━━━━━━━━━━━━━━━━━━━━━━━━━━━━━\u001b[0m \u001b[32m118.7/118.7 kB\u001b[0m \u001b[31m8.7 MB/s\u001b[0m eta \u001b[36m0:00:00\u001b[0m\n",
            "\u001b[2K   \u001b[90m━━━━━━━━━━━━━━━━━━━━━━━━━━━━━━━━━━━━━━━━\u001b[0m \u001b[32m73.9/73.9 kB\u001b[0m \u001b[31m4.8 MB/s\u001b[0m eta \u001b[36m0:00:00\u001b[0m\n",
            "\u001b[2K   \u001b[90m━━━━━━━━━━━━━━━━━━━━━━━━━━━━━━━━━━━━━━━━\u001b[0m \u001b[32m319.7/319.7 kB\u001b[0m \u001b[31m16.4 MB/s\u001b[0m eta \u001b[36m0:00:00\u001b[0m\n",
            "\u001b[2K   \u001b[90m━━━━━━━━━━━━━━━━━━━━━━━━━━━━━━━━━━━━━━━━\u001b[0m \u001b[32m62.3/62.3 kB\u001b[0m \u001b[31m3.9 MB/s\u001b[0m eta \u001b[36m0:00:00\u001b[0m\n",
            "\u001b[2K   \u001b[90m━━━━━━━━━━━━━━━━━━━━━━━━━━━━━━━━━━━━━━━━\u001b[0m \u001b[32m459.8/459.8 kB\u001b[0m \u001b[31m25.7 MB/s\u001b[0m eta \u001b[36m0:00:00\u001b[0m\n",
            "\u001b[2K   \u001b[90m━━━━━━━━━━━━━━━━━━━━━━━━━━━━━━━━━━━━━━━━\u001b[0m \u001b[32m71.5/71.5 kB\u001b[0m \u001b[31m5.4 MB/s\u001b[0m eta \u001b[36m0:00:00\u001b[0m\n",
            "\u001b[2K   \u001b[90m━━━━━━━━━━━━━━━━━━━━━━━━━━━━━━━━━━━━━━━━\u001b[0m \u001b[32m4.0/4.0 MB\u001b[0m \u001b[31m61.9 MB/s\u001b[0m eta \u001b[36m0:00:00\u001b[0m\n",
            "\u001b[2K   \u001b[90m━━━━━━━━━━━━━━━━━━━━━━━━━━━━━━━━━━━━━━━━\u001b[0m \u001b[32m452.6/452.6 kB\u001b[0m \u001b[31m27.6 MB/s\u001b[0m eta \u001b[36m0:00:00\u001b[0m\n",
            "\u001b[2K   \u001b[90m━━━━━━━━━━━━━━━━━━━━━━━━━━━━━━━━━━━━━━━━\u001b[0m \u001b[32m46.0/46.0 kB\u001b[0m \u001b[31m3.3 MB/s\u001b[0m eta \u001b[36m0:00:00\u001b[0m\n",
            "\u001b[2K   \u001b[90m━━━━━━━━━━━━━━━━━━━━━━━━━━━━━━━━━━━━━━━━\u001b[0m \u001b[32m86.8/86.8 kB\u001b[0m \u001b[31m6.2 MB/s\u001b[0m eta \u001b[36m0:00:00\u001b[0m\n",
            "\u001b[?25h  Building wheel for pypika (pyproject.toml) ... \u001b[?25l\u001b[?25hdone\n"
          ]
        }
      ],
      "source": [
        "%pip install -U -q \"google-generativeai>=0.8.3\" chromadb"
      ]
    },
    {
      "cell_type": "code",
      "execution_count": null,
      "metadata": {
        "id": "VmeCiKQhv7zo"
      },
      "outputs": [],
      "source": [
        "GOOGLE_API_KEY = \"GOOGLE_API_KEY\"\n",
        "genai.configure(api_key=GOOGLE_API_KEY)"
      ]
    },
    {
      "cell_type": "code",
      "execution_count": 4,
      "metadata": {
        "id": "INxM-I8ryoS9"
      },
      "outputs": [],
      "source": [
        "model=genai.GenerativeModel(\"gemini-1.5-flash-latest\",generation_config={'temperature':0.9,'top_p':0.1})"
      ]
    },
    {
      "cell_type": "markdown",
      "metadata": {
        "id": "qjJ9CwMW18hb"
      },
      "source": [
        "**Chain of Thought Reasoning**"
      ]
    },
    {
      "cell_type": "code",
      "execution_count": 6,
      "metadata": {
        "colab": {
          "base_uri": "https://localhost:8080/",
          "height": 116
        },
        "id": "lwHH8-Odv9IB",
        "outputId": "6ec4d311-7d7d-49c0-e7dd-caf26ca8380c"
      },
      "outputs": [
        {
          "data": {
            "text/markdown": [
              "Step 1: Start with the initial number of apples.  The cafeteria had 23 apples.\n",
              "\n",
              "Step 2: Subtract the number of apples used for lunch. 23 - 20 = 3 apples\n",
              "\n",
              "Step 3: Add the number of apples bought. 3 + 6 = 9 apples\n",
              "\n",
              "Answer: The cafeteria now has 9 apples.\n"
            ],
            "text/plain": [
              "<IPython.core.display.Markdown object>"
            ]
          },
          "execution_count": 6,
          "metadata": {},
          "output_type": "execute_result"
        }
      ],
      "source": [
        "prompt=\"\"\"\n",
        "The cafeteria had 23 apples. If they used 20 to\n",
        "make lunch and bought 6 more, how many apples\n",
        "do they have?\n",
        "Return the answer in a step by step process\"\"\"\n",
        "Markdown(model.generate_content(prompt).text)"
      ]
    },
    {
      "cell_type": "code",
      "execution_count": 7,
      "metadata": {
        "colab": {
          "base_uri": "https://localhost:8080/",
          "height": 157
        },
        "id": "YA7rQ_0Ewy5j",
        "outputId": "65962d61-6d00-4e3b-c82c-e11cf04bdb4f"
      },
      "outputs": [
        {
          "data": {
            "text/markdown": [
              "**Step 1: Identify the last letters of each word.**\n",
              "\n",
              "* Lady: y\n",
              "* Gaga: a\n",
              "\n",
              "**Step 2: Concatenate the last letters.**\n",
              "\n",
              "* y + a = ya\n",
              "\n",
              "**Answer:** ya\n"
            ],
            "text/plain": [
              "<IPython.core.display.Markdown object>"
            ]
          },
          "execution_count": 7,
          "metadata": {},
          "output_type": "execute_result"
        }
      ],
      "source": [
        "text=\"\"\"Take the last letters of the words\n",
        "in “Lady Gaga” and concatenate\n",
        "them\"\"\"\n",
        "prompt1=f\"\"\"\n",
        "```{text}```\n",
        "Return the answer in Step by step\"\"\"\n",
        "\n",
        "Markdown(model.generate_content(prompt1).text)"
      ]
    },
    {
      "cell_type": "code",
      "execution_count": null,
      "metadata": {
        "id": "PMFNH-GX1JTn"
      },
      "outputs": [],
      "source": [
        "### Notice the step by step process is quite better in reasoning when the compared to the previous example."
      ]
    },
    {
      "cell_type": "code",
      "execution_count": null,
      "metadata": {
        "colab": {
          "base_uri": "https://localhost:8080/",
          "height": 138
        },
        "id": "vMJ21W050Wok",
        "outputId": "389b791e-9e23-4181-e8cc-b910d4c8e9bd"
      },
      "outputs": [
        {
          "data": {
            "text/markdown": [
              "1. Started with: 10 apples\n",
              "2. Gave away: 10 - 2 - 2 = 6 apples\n",
              "3. Bought more: 6 + 5 = 11 apples\n",
              "4. Ate: 11 - 1 = 10 apples\n",
              "\n",
              "Answer: 10\n"
            ],
            "text/plain": [
              "<IPython.core.display.Markdown object>"
            ]
          },
          "execution_count": 8,
          "metadata": {},
          "output_type": "execute_result"
        }
      ],
      "source": [
        "text_2=\"\"\"\n",
        "I went to the market and bought 10 apples. I gave 2 apples to the neighbor and 2 to the repairman. I then went and bought 5 more apples and ate 1. How many apples did I remain with?\n",
        "Lets think step-by-step\n",
        "Return the answer immediately\"\"\"\n",
        "\n",
        "Markdown(model.generate_content(text_2).text)"
      ]
    },
    {
      "cell_type": "code",
      "execution_count": null,
      "metadata": {
        "colab": {
          "base_uri": "https://localhost:8080/",
          "height": 128
        },
        "id": "kVuolHQv1dVN",
        "outputId": "07401da7-683b-4d2c-8bd3-591d2bded58a"
      },
      "outputs": [
        {
          "data": {
            "text/markdown": [
              "That depends on what you want!  To bring you something that isn't a fruit, I need more information.  Tell me:\n",
              "\n",
              "* **What kind of thing are you looking for?** (e.g., a tool, a book, a toy, a drink)\n",
              "* **Where are you?** (This helps determine what's accessible)\n",
              "* **What are your preferences?** (e.g., color, size, function)\n",
              "\n",
              "Once I have this information, I can give you a more helpful answer.\n"
            ],
            "text/plain": [
              "<IPython.core.display.Markdown object>"
            ]
          },
          "execution_count": 9,
          "metadata": {},
          "output_type": "execute_result"
        }
      ],
      "source": [
        "prompt4=\"\"\"\n",
        "Human: How would you bring me\n",
        "something that isn’t a fruit?.\"\"\"\n",
        "Markdown(model.generate_content(prompt4).text)"
      ]
    },
    {
      "cell_type": "markdown",
      "metadata": {
        "id": "9TgGn9ej8uYP"
      },
      "source": [
        "**SELF CONSISTENCY**"
      ]
    },
    {
      "cell_type": "code",
      "execution_count": 8,
      "metadata": {
        "colab": {
          "base_uri": "https://localhost:8080/",
          "height": 494
        },
        "id": "F2zv5POi2xBO",
        "outputId": "3caf42ef-c478-4b18-ebbf-bcf1de983244"
      },
      "outputs": [
        {
          "data": {
            "text/markdown": [
              "Let's analyze the symptoms and match them to the potential diseases:\n",
              "\n",
              "**Step 1: Identify Key Symptoms**\n",
              "\n",
              "The key symptoms presented are:\n",
              "\n",
              "* **High fever (102°F):**  All four diseases (Typhoid, Dengue, Chikungunya, and Malaria) can present with high fever.\n",
              "* **Joint pain:** This strongly points towards Dengue and Chikungunya.  Typhoid and Malaria can sometimes cause joint pain, but it's less characteristic.\n",
              "* **Decreased platelets and hemoglobin:** This is a crucial clue.  Both Dengue and Chikungunya are known to cause thrombocytopenia (low platelet count) and, sometimes, a decrease in hemoglobin.  While typhoid can cause anemia (low hemoglobin), the platelet drop is less common. Malaria can also affect hemoglobin levels, but again, the platelet drop is less characteristic.\n",
              "\n",
              "**Step 2: Eliminate Less Likely Options**\n",
              "\n",
              "* **Typhoid:** While typhoid can cause fever, it's less likely to present with the significant joint pain and the marked drop in platelets described.  Anemia (low hemoglobin) is more common in typhoid than thrombocytopenia (low platelets).\n",
              "\n",
              "* **Malaria:** Malaria typically presents with cyclical fever (fever comes and goes in cycles), and while it can cause anemia, the prominent joint pain and significant thrombocytopenia are less typical.\n",
              "\n",
              "**Step 3: Compare the Remaining Options**\n",
              "\n",
              "* **Dengue:**  Dengue fever is characterized by high fever, severe joint pain (hence the nickname \"breakbone fever\"), and a significant drop in platelets.  A decrease in hemoglobin can also occur.\n",
              "\n",
              "* **Chikungunya:** Chikungunya is very similar to Dengue. It also presents with high fever, severe joint pain (often more debilitating than in Dengue), and can cause thrombocytopenia.  Hemoglobin decrease is less common than in Dengue.\n",
              "\n",
              "**Step 4: Conclusion**\n",
              "\n",
              "Based on the prominent joint pain and the significant drop in both platelets and hemoglobin, **Dengue (B) and Chikungunya (C)** are the most likely possibilities.  The information provided doesn't allow us to definitively distinguish between the two.  A blood test to check for specific Dengue and Chikungunya viruses would be necessary for a definitive diagnosis.  It's crucial to seek medical attention immediately for proper diagnosis and treatment.  Delaying treatment for either Dengue or Chikungunya can lead to serious complications.\n"
            ],
            "text/plain": [
              "<IPython.core.display.Markdown object>"
            ]
          },
          "execution_count": 8,
          "metadata": {},
          "output_type": "execute_result"
        }
      ],
      "source": [
        "prompt5=\"\"\"\n",
        "I had fever with 102 degrees followed by joint pain for two days, The Platelets and haemoglobulin dropped down, What fever could it be?\n",
        "A)Typhoid B) Dengue C) Chikungunya D) Malaria. Explain me the answe in a step by step process\"\"\"\n",
        "Markdown(model.generate_content(prompt5).text)"
      ]
    },
    {
      "cell_type": "code",
      "execution_count": 10,
      "metadata": {
        "colab": {
          "base_uri": "https://localhost:8080/",
          "height": 819
        },
        "id": "8LN2LNfMVIc5",
        "outputId": "08804a1d-af5e-4a70-811c-f21eaec272c3"
      },
      "outputs": [
        {
          "data": {
            "text/markdown": [
              "Let's break down the types of genes involved in breast cancer, reasoning step-by-step:\n",
              "\n",
              "**1. Genes Directly Involved in Cancer Development (Oncogenes and Tumor Suppressor Genes):**\n",
              "\n",
              "* **Oncogenes:** These are mutated versions of normal genes (proto-oncogenes) that promote cell growth and division.  When mutated or overexpressed, they act like a gas pedal stuck down, leading to uncontrolled cell proliferation – a hallmark of cancer.  Examples relevant to breast cancer include:\n",
              "    * **ERBB2 (HER2):**  Overexpression or amplification of this gene leads to excessive cell growth signaling.  HER2-positive breast cancers are a specific subtype.\n",
              "    * **MYC:**  Involved in cell cycle regulation and apoptosis (programmed cell death).  Its dysregulation contributes to uncontrolled growth.\n",
              "    * **PIK3CA:**  Encodes a protein involved in cell signaling pathways that regulate growth and survival. Mutations can lead to constitutive activation, promoting cancer.\n",
              "    * **KRAS:** While less frequently mutated in breast cancer compared to other cancers (like colon cancer), KRAS mutations can still contribute to tumorigenesis.\n",
              "\n",
              "* **Tumor Suppressor Genes:** These genes normally act as brakes on cell growth, repairing DNA damage, or initiating apoptosis.  Mutations or inactivation of these genes remove the brakes, allowing uncontrolled cell growth.  Examples relevant to breast cancer include:\n",
              "    * **TP53:**  A crucial gene involved in DNA repair and apoptosis.  Mutations in TP53 are very common in many cancers, including breast cancer, and are associated with aggressive disease.\n",
              "    * **BRCA1 and BRCA2:**  These genes are involved in DNA repair.  Germline mutations (inherited from parents) in these genes significantly increase the risk of breast cancer (and ovarian cancer).  They are associated with a higher risk of aggressive, triple-negative breast cancer.\n",
              "    * **PTEN:**  Involved in cell growth regulation and DNA repair.  Mutations can lead to increased cell growth and survival.\n",
              "    * **ATM:** Involved in DNA damage response. Mutations increase cancer risk.\n",
              "\n",
              "\n",
              "**2. Genes Involved in Hormone Receptor Status:**\n",
              "\n",
              "Breast cancer cells can express receptors for hormones like estrogen (ER) and progesterone (PR).  The presence or absence of these receptors influences treatment strategies.  Genes involved in the synthesis and function of these receptors are indirectly involved in breast cancer development and response to therapy.  While not directly \"cancer genes,\" their expression levels are crucial for classification and treatment.\n",
              "\n",
              "* **ESR1 (Estrogen Receptor):**  Expression of this gene determines ER-positive status.\n",
              "* **PGR (Progesterone Receptor):** Expression of this gene determines PR-positive status.\n",
              "\n",
              "\n",
              "**3. Genes Involved in the Tumor Microenvironment:**\n",
              "\n",
              "The tumor microenvironment includes the surrounding cells, blood vessels, and extracellular matrix.  Genes expressed by these cells can influence tumor growth, invasion, and metastasis.  These are less directly involved in initiating cancer but play a crucial role in its progression.  Examples include genes involved in angiogenesis (blood vessel formation) and immune response.\n",
              "\n",
              "\n",
              "**4. Genes Involved in Drug Resistance:**\n",
              "\n",
              "Some genes can contribute to the development of resistance to cancer therapies.  Mutations or overexpression of these genes can make cancer cells less susceptible to treatment.  These genes are not necessarily directly involved in cancer initiation but are crucial in determining treatment outcomes.\n",
              "\n",
              "\n",
              "**5. Germline vs. Somatic Mutations:**\n",
              "\n",
              "It's important to distinguish between:\n",
              "\n",
              "* **Germline mutations:** These are inherited mutations present in all cells of the body, including eggs and sperm.  Mutations in BRCA1/2 are examples.  They increase the risk of developing cancer.\n",
              "* **Somatic mutations:** These are acquired mutations that occur in individual cells during a person's lifetime.  Most cancer-causing mutations are somatic.\n",
              "\n",
              "\n",
              "In summary, a breast cancer patient will have a complex interplay of different gene alterations.  The specific combination of oncogene activations, tumor suppressor gene inactivations, hormone receptor status, and other genetic factors determines the subtype of breast cancer, its aggressiveness, and its response to treatment.  Genetic testing can help identify these alterations to guide personalized treatment strategies.\n"
            ],
            "text/plain": [
              "<IPython.core.display.Markdown object>"
            ]
          },
          "execution_count": 10,
          "metadata": {},
          "output_type": "execute_result"
        }
      ],
      "source": [
        "prompt6=\"\"\"\n",
        "What are the types of genes found in a breast cancer patient? Think step by step to reason the behavior\"\"\"\n",
        "Markdown(model.generate_content(prompt6).text)"
      ]
    }
  ],
  "metadata": {
    "colab": {
      "provenance": []
    },
    "kernelspec": {
      "display_name": "Python 3",
      "name": "python3"
    },
    "language_info": {
      "name": "python"
    }
  },
  "nbformat": 4,
  "nbformat_minor": 0
}
